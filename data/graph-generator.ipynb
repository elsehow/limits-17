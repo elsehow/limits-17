{
 "cells": [
  {
   "cell_type": "code",
   "execution_count": 18,
   "metadata": {
    "collapsed": false,
    "deletable": true,
    "editable": true
   },
   "outputs": [
    {
     "name": "stdout",
     "output_type": "stream",
     "text": [
      "Populating the interactive namespace from numpy and matplotlib\n"
     ]
    }
   ],
   "source": [
    "%pylab inline\n",
    "import pandas as pd\n",
    "def p2f(x): \n",
    "    if x.startswith('<'):\n",
    "        return 0.001\n",
    "    return float(x.strip('%'))/100"
   ]
  },
  {
   "cell_type": "code",
   "execution_count": 25,
   "metadata": {
    "collapsed": false,
    "deletable": true,
    "editable": true
   },
   "outputs": [
    {
     "data": {
      "text/html": [
       "<div>\n",
       "<table border=\"1\" class=\"dataframe\">\n",
       "  <thead>\n",
       "    <tr style=\"text-align: right;\">\n",
       "      <th></th>\n",
       "      <th>name</th>\n",
       "      <th>usage</th>\n",
       "      <th>market share</th>\n",
       "    </tr>\n",
       "    <tr>\n",
       "      <th>name</th>\n",
       "      <th></th>\n",
       "      <th></th>\n",
       "      <th></th>\n",
       "    </tr>\n",
       "  </thead>\n",
       "  <tbody>\n",
       "    <tr>\n",
       "      <th>Comodo</th>\n",
       "      <td>Comodo</td>\n",
       "      <td>0.081</td>\n",
       "      <td>0.406</td>\n",
       "    </tr>\n",
       "    <tr>\n",
       "      <th>Symantec</th>\n",
       "      <td>Symantec</td>\n",
       "      <td>0.052</td>\n",
       "      <td>0.260</td>\n",
       "    </tr>\n",
       "    <tr>\n",
       "      <th>GoDaddy</th>\n",
       "      <td>GoDaddy</td>\n",
       "      <td>0.024</td>\n",
       "      <td>0.118</td>\n",
       "    </tr>\n",
       "    <tr>\n",
       "      <th>GlobalSign</th>\n",
       "      <td>GlobalSign</td>\n",
       "      <td>0.019</td>\n",
       "      <td>0.097</td>\n",
       "    </tr>\n",
       "    <tr>\n",
       "      <th>IdenTrust</th>\n",
       "      <td>IdenTrust</td>\n",
       "      <td>0.007</td>\n",
       "      <td>0.035</td>\n",
       "    </tr>\n",
       "  </tbody>\n",
       "</table>\n",
       "</div>"
      ],
      "text/plain": [
       "                  name  usage  market share\n",
       "name                                       \n",
       "Comodo          Comodo  0.081         0.406\n",
       "Symantec      Symantec  0.052         0.260\n",
       "GoDaddy        GoDaddy  0.024         0.118\n",
       "GlobalSign  GlobalSign  0.019         0.097\n",
       "IdenTrust    IdenTrust  0.007         0.035"
      ]
     },
     "execution_count": 25,
     "metadata": {},
     "output_type": "execute_result"
    }
   ],
   "source": [
    "cas = pd.read_csv('ca-market-share-2016.csv', sep=\"\\t\",names=['rank', 'name', 'usage', 'market share'], converters={'market share':p2f, 'usage': p2f})\n",
    "cas = cas.drop('rank', axis=1)\n",
    "cas.index = cas['name']\n",
    "cas.head()"
   ]
  },
  {
   "cell_type": "code",
   "execution_count": 27,
   "metadata": {
    "collapsed": false
   },
   "outputs": [
    {
     "data": {
      "text/plain": [
       "<matplotlib.axes._subplots.AxesSubplot at 0x1073a1780>"
      ]
     },
     "execution_count": 27,
     "metadata": {},
     "output_type": "execute_result"
    },
    {
     "data": {
      "image/png": "[encoded data removed]",
      "text/plain": [
       "<matplotlib.figure.Figure at 0x106e22f28>"
      ]
     },
     "metadata": {},
     "output_type": "display_data"
    }
   ],
   "source": [
    "cas[['name', 'market share']].plot.pie(y='market share', legend=False)"
   ]
  },
  {
   "cell_type": "code",
   "execution_count": 31,
   "metadata": {
    "collapsed": false
   },
   "outputs": [
    {
     "data": {
      "text/html": [
       "<div>\n",
       "<table border=\"1\" class=\"dataframe\">\n",
       "  <thead>\n",
       "    <tr style=\"text-align: right;\">\n",
       "      <th></th>\n",
       "      <th>Browser</th>\n",
       "      <th>November</th>\n",
       "      <th>December</th>\n",
       "      <th>change</th>\n",
       "      <th>relative</th>\n",
       "    </tr>\n",
       "    <tr>\n",
       "      <th>Browser</th>\n",
       "      <th></th>\n",
       "      <th></th>\n",
       "      <th></th>\n",
       "      <th></th>\n",
       "      <th></th>\n",
       "    </tr>\n",
       "  </thead>\n",
       "  <tbody>\n",
       "    <tr>\n",
       "      <th>IE (all)</th>\n",
       "      <td>IE (all)</td>\n",
       "      <td>15.45%</td>\n",
       "      <td>0.1516</td>\n",
       "      <td>-0.29%</td>\n",
       "      <td>-1.90%</td>\n",
       "    </tr>\n",
       "    <tr>\n",
       "      <th>IE11</th>\n",
       "      <td>IE11</td>\n",
       "      <td>10.40%</td>\n",
       "      <td>0.1026</td>\n",
       "      <td>-0.14%</td>\n",
       "      <td>-1.30%</td>\n",
       "    </tr>\n",
       "    <tr>\n",
       "      <th>IE10</th>\n",
       "      <td>IE10</td>\n",
       "      <td>1.44%</td>\n",
       "      <td>0.0137</td>\n",
       "      <td>-0.07%</td>\n",
       "      <td>-4.90%</td>\n",
       "    </tr>\n",
       "    <tr>\n",
       "      <th>IE9</th>\n",
       "      <td>IE9</td>\n",
       "      <td>1.48%</td>\n",
       "      <td>0.0144</td>\n",
       "      <td>-0.04%</td>\n",
       "      <td>-2.70%</td>\n",
       "    </tr>\n",
       "    <tr>\n",
       "      <th>IE6/7/8</th>\n",
       "      <td>IE6/7/8</td>\n",
       "      <td>2.13%</td>\n",
       "      <td>0.0209</td>\n",
       "      <td>-0.04%</td>\n",
       "      <td>-1.90%</td>\n",
       "    </tr>\n",
       "  </tbody>\n",
       "</table>\n",
       "</div>"
      ],
      "text/plain": [
       "           Browser November  December  change relative\n",
       "Browser                                               \n",
       "IE (all)  IE (all)   15.45%    0.1516  -0.29%   -1.90%\n",
       "IE11          IE11   10.40%    0.1026  -0.14%   -1.30%\n",
       "IE10          IE10    1.44%    0.0137  -0.07%   -4.90%\n",
       "IE9            IE9    1.48%    0.0144  -0.04%   -2.70%\n",
       "IE6/7/8    IE6/7/8    2.13%    0.0209  -0.04%   -1.90%"
      ]
     },
     "execution_count": 31,
     "metadata": {},
     "output_type": "execute_result"
    }
   ],
   "source": [
    "browsers = pd.read_csv('browser-market-share-2016.csv', sep=\"\\t\", converters={'December':p2f})\n",
    "browsers.index = browsers['Browser']\n",
    "\n",
    "browsers.head()"
   ]
  },
  {
   "cell_type": "code",
   "execution_count": 32,
   "metadata": {
    "collapsed": false
   },
   "outputs": [
    {
     "data": {
      "text/plain": [
       "<matplotlib.axes._subplots.AxesSubplot at 0x1074e1ac8>"
      ]
     },
     "execution_count": 32,
     "metadata": {},
     "output_type": "execute_result"
    },
    {
     "data": {
      "image/png": "[encoded data removed]",
      "text/plain": [
       "<matplotlib.figure.Figure at 0x10755f278>"
      ]
     },
     "metadata": {},
     "output_type": "display_data"
    }
   ],
   "source": [
    "browsers.plot.pie(y='December', legend=False)"
   ]
  }
 ],
 "metadata": {
  "kernelspec": {
   "display_name": "Python 3",
   "language": "python",
   "name": "python3"
  },
  "language_info": {
   "codemirror_mode": {
    "name": "ipython",
    "version": 3
   },
   "file_extension": ".py",
   "mimetype": "text/x-python",
   "name": "python",
   "nbconvert_exporter": "python",
   "pygments_lexer": "ipython3",
   "version": "3.6.0"
  }
 },
 "nbformat": 4,
 "nbformat_minor": 2
}
